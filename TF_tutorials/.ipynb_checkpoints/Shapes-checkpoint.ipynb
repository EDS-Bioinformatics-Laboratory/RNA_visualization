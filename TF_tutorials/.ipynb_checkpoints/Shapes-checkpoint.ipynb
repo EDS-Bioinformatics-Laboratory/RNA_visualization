{
 "cells": [
  {
   "cell_type": "code",
   "execution_count": 4,
   "metadata": {},
   "outputs": [],
   "source": [
    "from __future__ import print_function\n",
    "\n",
    "import collections\n",
    "\n",
    "import tensorflow as tf\n",
    "import tensorflow_probability as tfp\n",
    "tfd = tfp.distributions\n",
    "tfb = tfp.bijectors\n",
    "\n",
    "tf.compat.v1.enable_eager_execution()"
   ]
  },
  {
   "cell_type": "code",
   "execution_count": 3,
   "metadata": {},
   "outputs": [],
   "source": [
    "def describe_distributions(distributions):\n",
    "    print('\\n'.join([str(d) for d in distributions]))"
   ]
  },
  {
   "cell_type": "code",
   "execution_count": 5,
   "metadata": {},
   "outputs": [
    {
     "name": "stdout",
     "output_type": "stream",
     "text": [
      "tfp.distributions.Poisson(\"One_Poisson_Scalar_Batch\", batch_shape=[], event_shape=[], dtype=float32)\n",
      "tfp.distributions.Poisson(\"Three_Poissons\", batch_shape=[3], event_shape=[], dtype=float32)\n",
      "tfp.distributions.Poisson(\"Two_by_Three_Poissons\", batch_shape=[2, 3], event_shape=[], dtype=float32)\n",
      "tfp.distributions.Poisson(\"One_Poisson_Vector_Batch\", batch_shape=[1], event_shape=[], dtype=float32)\n",
      "tfp.distributions.Poisson(\"One_Poisson_Expanded_Batch\", batch_shape=[1, 1], event_shape=[], dtype=float32)\n"
     ]
    }
   ],
   "source": [
    "poisson_distributions = [\n",
    "    tfd.Poisson(rate=1., name='One Poisson Scalar Batch'),\n",
    "    tfd.Poisson(rate=[1., 10., 100.], name='Three Poissons'),\n",
    "    tfd.Poisson(rate=[[1., 10., 100.,], [2., 20., 200.]],\n",
    "                name='Two-by-Three Poissons'),\n",
    "    tfd.Poisson(rate=[1.], name='One Poisson Vector Batch'),\n",
    "    tfd.Poisson(rate=[[1.]], name='One Poisson Expanded Batch')\n",
    "]\n",
    "\n",
    "describe_distributions(poisson_distributions)"
   ]
  },
  {
   "cell_type": "code",
   "execution_count": 7,
   "metadata": {},
   "outputs": [
    {
     "name": "stdout",
     "output_type": "stream",
     "text": [
      "tfp.distributions.Poisson(\"One_Poisson_Scalar_Batch\", batch_shape=[], event_shape=[], dtype=float32)\n",
      "Sample shape: 1\n",
      "Returned sample tensor shape: (1,)\n",
      "Sample shape: 2\n",
      "Returned sample tensor shape: (2,)\n",
      "Sample shape: [1, 5]\n",
      "Returned sample tensor shape: (1, 5)\n",
      "Sample shape: [3, 4, 5]\n",
      "Returned sample tensor shape: (3, 4, 5)\n",
      "\n",
      "tfp.distributions.Poisson(\"Three_Poissons\", batch_shape=[3], event_shape=[], dtype=float32)\n",
      "Sample shape: 1\n",
      "Returned sample tensor shape: (1, 3)\n",
      "Sample shape: 2\n",
      "Returned sample tensor shape: (2, 3)\n",
      "Sample shape: [1, 5]\n",
      "Returned sample tensor shape: (1, 5, 3)\n",
      "Sample shape: [3, 4, 5]\n",
      "Returned sample tensor shape: (3, 4, 5, 3)\n",
      "\n",
      "tfp.distributions.Poisson(\"Two_by_Three_Poissons\", batch_shape=[2, 3], event_shape=[], dtype=float32)\n",
      "Sample shape: 1\n",
      "Returned sample tensor shape: (1, 2, 3)\n",
      "Sample shape: 2\n",
      "Returned sample tensor shape: (2, 2, 3)\n",
      "Sample shape: [1, 5]\n",
      "Returned sample tensor shape: (1, 5, 2, 3)\n",
      "Sample shape: [3, 4, 5]\n",
      "Returned sample tensor shape: (3, 4, 5, 2, 3)\n",
      "\n",
      "tfp.distributions.Poisson(\"One_Poisson_Vector_Batch\", batch_shape=[1], event_shape=[], dtype=float32)\n",
      "Sample shape: 1\n",
      "Returned sample tensor shape: (1, 1)\n",
      "Sample shape: 2\n",
      "Returned sample tensor shape: (2, 1)\n",
      "Sample shape: [1, 5]\n",
      "Returned sample tensor shape: (1, 5, 1)\n",
      "Sample shape: [3, 4, 5]\n",
      "Returned sample tensor shape: (3, 4, 5, 1)\n",
      "\n",
      "tfp.distributions.Poisson(\"One_Poisson_Expanded_Batch\", batch_shape=[1, 1], event_shape=[], dtype=float32)\n",
      "Sample shape: 1\n",
      "Returned sample tensor shape: (1, 1, 1)\n",
      "Sample shape: 2\n",
      "Returned sample tensor shape: (2, 1, 1)\n",
      "Sample shape: [1, 5]\n",
      "Returned sample tensor shape: (1, 5, 1, 1)\n",
      "Sample shape: [3, 4, 5]\n",
      "Returned sample tensor shape: (3, 4, 5, 1, 1)\n",
      "\n"
     ]
    }
   ],
   "source": [
    "def describe_sample_tensor_shape(sample_shape, distribution):\n",
    "    print('Sample shape:', sample_shape)\n",
    "    print('Returned sample tensor shape:',\n",
    "          distribution.sample(sample_shape).shape)\n",
    "\n",
    "def describe_sample_tensor_shapes(distributions, sample_shapes):\n",
    "    started = False\n",
    "    for distribution in distributions:\n",
    "        print(distribution)\n",
    "        for sample_shape in sample_shapes:\n",
    "            describe_sample_tensor_shape(sample_shape, distribution)\n",
    "        print()\n",
    "\n",
    "sample_shapes = [1, 2, [1, 5], [3, 4, 5]]\n",
    "describe_sample_tensor_shapes(poisson_distributions, sample_shapes)"
   ]
  }
 ],
 "metadata": {
  "kernelspec": {
   "display_name": "Python 3",
   "language": "python",
   "name": "python3"
  },
  "language_info": {
   "codemirror_mode": {
    "name": "ipython",
    "version": 3
   },
   "file_extension": ".py",
   "mimetype": "text/x-python",
   "name": "python",
   "nbconvert_exporter": "python",
   "pygments_lexer": "ipython3",
   "version": "3.7.2"
  }
 },
 "nbformat": 4,
 "nbformat_minor": 2
}
