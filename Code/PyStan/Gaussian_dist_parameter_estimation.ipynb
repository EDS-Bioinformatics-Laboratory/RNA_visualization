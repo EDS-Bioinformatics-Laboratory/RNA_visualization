{
 "cells": [
  {
   "cell_type": "markdown",
   "metadata": {},
   "source": [
    "# Gaussian distribution parameter estimation\n",
    "\n",
    "In this notebook, we try to estimate the mean $\\mu$ and standard deviation $\\sigma$ of a normal distribution in Pystan."
   ]
  },
  {
   "cell_type": "code",
   "execution_count": 1,
   "metadata": {},
   "outputs": [],
   "source": [
    "from mpl_toolkits.mplot3d import Axes3D\n",
    "import pystan\n",
    "import numpy as np\n",
    "import seaborn as sns\n",
    "sns.set()\n",
    "from utils import loadStan"
   ]
  },
  {
   "cell_type": "markdown",
   "metadata": {},
   "source": [
    "Here, we load the model as defined in Stan."
   ]
  },
  {
   "cell_type": "code",
   "execution_count": 3,
   "metadata": {},
   "outputs": [
    {
     "name": "stdout",
     "output_type": "stream",
     "text": [
      "Model loaded succesfully from cache.\n"
     ]
    }
   ],
   "source": [
    "norm_model = loadStan('gausian')"
   ]
  },
  {
   "cell_type": "markdown",
   "metadata": {},
   "source": [
    "We specify our parameters and generate some data."
   ]
  },
  {
   "cell_type": "code",
   "execution_count": 5,
   "metadata": {},
   "outputs": [],
   "source": [
    "N=10000\n",
    "mu = np.random.normal(0,10)\n",
    "sigmas = np.random.lognormal(0,2)\n",
    "y = np.random.normal(mu,sigmas, size=N)\n",
    "    \n",
    "norm_dat = {'N': N,'y':y}"
   ]
  },
  {
   "cell_type": "markdown",
   "metadata": {},
   "source": [
    "And then we can optimize our parameters and latent dataset."
   ]
  },
  {
   "cell_type": "code",
   "execution_count": 6,
   "metadata": {},
   "outputs": [
    {
     "name": "stdout",
     "output_type": "stream",
     "text": [
      "OrderedDict([('mu', array(3.33348324)), ('sigma', array(0.77324097))])\n",
      "\n",
      "3.319087022828584 0.7747252787742888\n"
     ]
    }
   ],
   "source": [
    "op = norm_model.optimizing(data=norm_dat)\n",
    "\n",
    "print(op)\n",
    "print()\n",
    "print(mu, sigmas)"
   ]
  },
  {
   "cell_type": "markdown",
   "metadata": {},
   "source": [
    "As we can see, $\\mu$ and $\\sigma$ have been estimated."
   ]
  }
 ],
 "metadata": {
  "kernelspec": {
   "display_name": "Python 3",
   "language": "python",
   "name": "python3"
  },
  "language_info": {
   "codemirror_mode": {
    "name": "ipython",
    "version": 3
   },
   "file_extension": ".py",
   "mimetype": "text/x-python",
   "name": "python",
   "nbconvert_exporter": "python",
   "pygments_lexer": "ipython3",
   "version": "3.7.2"
  }
 },
 "nbformat": 4,
 "nbformat_minor": 2
}
