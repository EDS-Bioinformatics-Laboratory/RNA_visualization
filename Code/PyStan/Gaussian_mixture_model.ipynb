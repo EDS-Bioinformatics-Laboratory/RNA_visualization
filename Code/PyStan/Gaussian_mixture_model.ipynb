{
 "cells": [
  {
   "cell_type": "markdown",
   "metadata": {},
   "source": [
    "# Gaussian distribution parameter estimation\n",
    "\n",
    "In this notebook, we try a parameter estimation for a Gaussian mixture model in Pystan. Currently, this is not functional yet."
   ]
  },
  {
   "cell_type": "code",
   "execution_count": 2,
   "metadata": {},
   "outputs": [],
   "source": [
    "from mpl_toolkits.mplot3d import Axes3D\n",
    "import pystan\n",
    "import numpy as np\n",
    "import seaborn as sns\n",
    "sns.set()"
   ]
  },
  {
   "cell_type": "markdown",
   "metadata": {},
   "source": [
    "Here, the model is defined in Stan."
   ]
  },
  {
   "cell_type": "code",
   "execution_count": 3,
   "metadata": {},
   "outputs": [
    {
     "name": "stderr",
     "output_type": "stream",
     "text": [
      "INFO:pystan:COMPILING THE C++ CODE FOR MODEL anon_model_29d0bad207f21fa01360839999204f10 NOW.\n"
     ]
    }
   ],
   "source": [
    "gmm_code = \"\"\"\n",
    "\n",
    "data{\n",
    "    int<lower=0> N;// number  of  data  points  in  entire  dataset\n",
    "    int<lower=0> K;// number  of  mixture  components\n",
    "    vector[N] y;//  observations\n",
    "}\n",
    "\n",
    "\n",
    "parameters{\n",
    "    simplex[K] pi;//  mixing  proportions\n",
    "    vector[K] mu;//  locations  of  mixture  components\n",
    "    vector<lower=0>[K] sigma;   //  standard  deviations  of  mixture  components\n",
    "}\n",
    "\n",
    "model{\n",
    "    //  priors\n",
    "    for(k in 1:K)  {\n",
    "        mu[k]~normal(0.0, 10.0) ;\n",
    "        sigma[k]~lognormal(0.0, 2.0) ;\n",
    "    }\n",
    "    \n",
    "    //  likelihood\n",
    "    for(n in 1:N)  {\n",
    "        real ps[K] ;\n",
    "        for(k in 1:K)  {\n",
    "            ps[k]<-log(pi[k]) + normal_log(y[n], mu[k], sigma[k] ) ;\n",
    "        }increment_log_prob(log_sum_exp(ps));\n",
    "    }\n",
    "}\n",
    "\"\"\"\n",
    "gmm = pystan.StanModel(model_code=gmm_code)"
   ]
  },
  {
   "cell_type": "markdown",
   "metadata": {},
   "source": [
    "We specify our parameters and generate some data."
   ]
  },
  {
   "cell_type": "code",
   "execution_count": 7,
   "metadata": {},
   "outputs": [],
   "source": [
    "N=10000\n",
    "y_gmm = []\n",
    "mu = np.random.normal(0,10,size=3)\n",
    "sigma = np.random.lognormal(0,2,size=3)\n",
    "probs = np.random.dirichlet(np.ones(3))\n",
    "for i in range(N):\n",
    "    opt = np.random.choice([0,1,2],p=probs)\n",
    "    y_gmm.append(np.random.normal(mu[opt],sigmas[opt]))\n",
    "    \n",
    "gmm_dat = {'N': N,'K': 3,'y':y_gmm}"
   ]
  },
  {
   "cell_type": "markdown",
   "metadata": {},
   "source": [
    "And then we can optimize our parameters and latent dataset."
   ]
  },
  {
   "cell_type": "code",
   "execution_count": 9,
   "metadata": {},
   "outputs": [
    {
     "name": "stdout",
     "output_type": "stream",
     "text": [
      "real mu:  [-7.5243877  16.6032667  17.25297601] , simulated mu:  [-0.08807867  2.03010175  1.60462294]\n",
      "\n",
      "real sigma:  [0.09304988 0.7358045  2.05638074] , simulated sigma:  [ 0.01858656 12.21060021  0.01827217]\n",
      "\n",
      "real pi:  [0.60545717 0.16852661 0.22601622] , simulated pi:  [1.15884432e-20 1.00000000e+00 4.94848162e-10]\n"
     ]
    }
   ],
   "source": [
    "op = gmm.optimizing(data=gmm_dat)\n",
    "\n",
    "pi_sim = op['pi']\n",
    "mu_sim = op['mu']\n",
    "sigma_sim = op['sigma']\n",
    "\n",
    "print('real mu: ', mu, ', simulated mu: ', mu_sim)\n",
    "print()\n",
    "print('real sigma: ', sigma, ', simulated sigma: ', sigma_sim)\n",
    "print()\n",
    "print('real pi: ', probs, ', simulated pi: ', pi_sim)"
   ]
  },
  {
   "cell_type": "markdown",
   "metadata": {},
   "source": [
    "As we can see, all parameters are estimated wrongly. The result of this is plotted below."
   ]
  },
  {
   "cell_type": "code",
   "execution_count": 13,
   "metadata": {},
   "outputs": [
    {
     "data": {
      "image/png": "[encoded data removed]",
      "text/plain": [
       "<Figure size 432x288 with 1 Axes>"
      ]
     },
     "metadata": {},
     "output_type": "display_data"
    }
   ],
   "source": [
    "y_gmm_sim = []\n",
    "for i in range(N):\n",
    "    opt = np.random.choice([0,1,2],p=pi_sim)\n",
    "    y_gmm_sim.append(np.random.normal(mu_sim[opt],sigma_sim[opt]))\n",
    "    \n",
    "plt.hist(y_gmm, alpha=0.5, label='real data')\n",
    "plt.hist(y_gmm_sim, alpha=0.5, label='simulated data')\n",
    "plt.legend()\n",
    "plt.show()"
   ]
  }
 ],
 "metadata": {
  "kernelspec": {
   "display_name": "Python 3",
   "language": "python",
   "name": "python3"
  },
  "language_info": {
   "codemirror_mode": {
    "name": "ipython",
    "version": 3
   },
   "file_extension": ".py",
   "mimetype": "text/x-python",
   "name": "python",
   "nbconvert_exporter": "python",
   "pygments_lexer": "ipython3",
   "version": "3.7.2"
  }
 },
 "nbformat": 4,
 "nbformat_minor": 2
}
