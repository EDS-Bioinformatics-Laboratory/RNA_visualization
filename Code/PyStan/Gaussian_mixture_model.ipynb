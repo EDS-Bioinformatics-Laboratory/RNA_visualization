{
 "cells": [
  {
   "cell_type": "markdown",
   "metadata": {},
   "source": [
    "# Gaussian distribution parameter estimation\n",
    "\n",
    "In this notebook, we try a parameter estimation for a Gaussian mixture model in Pystan. The model is borrowed from the [Stan users guide](https://mc-stan.org/docs/2_18/stan-users-guide/summing-out-the-responsibility-parameter.html). A workaround has been implemented because Stan is not able to work with discrete parameters, as explained in the users guide."
   ]
  },
  {
   "cell_type": "code",
   "execution_count": 1,
   "metadata": {},
   "outputs": [],
   "source": [
    "from mpl_toolkits.mplot3d import Axes3D\n",
    "import pystan\n",
    "import numpy as np\n",
    "import seaborn as sns\n",
    "sns.set()"
   ]
  },
  {
   "cell_type": "markdown",
   "metadata": {},
   "source": [
    "Here, the model is defined in Stan."
   ]
  },
  {
   "cell_type": "code",
   "execution_count": 47,
   "metadata": {},
   "outputs": [
    {
     "name": "stderr",
     "output_type": "stream",
     "text": [
      "INFO:pystan:COMPILING THE C++ CODE FOR MODEL anon_model_5fb2493aa901419df5e616f1f31def94 NOW.\n"
     ]
    }
   ],
   "source": [
    "gmm_code = \"\"\"\n",
    "\n",
    "data {\n",
    "  int<lower=1> K;          // number of mixture components\n",
    "  int<lower=1> N;          // number of data points\n",
    "  real y[N];               // observations\n",
    "}\n",
    "parameters {\n",
    "  simplex[K] theta;          // mixing proportions\n",
    "  ordered[K] mu;             // locations of mixture components\n",
    "  vector<lower=0>[K] sigma;  // scales of mixture components\n",
    "}\n",
    "model {\n",
    "  vector[K] log_theta = log(theta);  // cache log calculation\n",
    "  sigma ~ lognormal(0, 2);\n",
    "  mu ~ normal(0, 10);\n",
    "  for (n in 1:N) {\n",
    "    vector[K] lps = log_theta;\n",
    "    for (k in 1:K)\n",
    "      lps[k] += normal_lpdf(y[n] | mu[k], sigma[k]);\n",
    "    target += log_sum_exp(lps);\n",
    "  }\n",
    "}\n",
    "\"\"\"\n",
    "gmm = pystan.StanModel(model_code=gmm_code)"
   ]
  },
  {
   "cell_type": "markdown",
   "metadata": {},
   "source": [
    "We specify our parameters and generate some data."
   ]
  },
  {
   "cell_type": "code",
   "execution_count": 146,
   "metadata": {},
   "outputs": [
    {
     "data": {
      "image/png": "[encoded data removed]",
      "text/plain": [
       "<Figure size 432x288 with 1 Axes>"
      ]
     },
     "metadata": {},
     "output_type": "display_data"
    },
    {
     "name": "stdout",
     "output_type": "stream",
     "text": [
      "sample theta:  [0.26529314 0.06106118 0.67364568]\n",
      "sample mu:  [-13.88871551  11.60674085   6.70260789]\n",
      "sample sigma:  [17.18137507 30.782505    1.67126915]\n"
     ]
    }
   ],
   "source": [
    "N=1000\n",
    "K=3\n",
    "y_gmm = []\n",
    "z_gmm = []\n",
    "mu = np.random.normal(0,10,size=K)\n",
    "sigmas = np.random.lognormal(0,2,size=K)\n",
    "theta = np.random.dirichlet(np.ones(K))\n",
    "for i in range(N):\n",
    "    opt = np.random.choice(list(range(K)),p=theta)\n",
    "    z_gmm.append(opt)\n",
    "    y_gmm.append(np.random.normal(mu[opt],sigmas[opt]))\n",
    "    \n",
    "gmm_dat = {'N': N,'K': K,'y':y_gmm}\n",
    "\n",
    "sns.set()\n",
    "for k in range(K):\n",
    "    plt.hist(np.array(y_gmm)[np.array(z_gmm)==k], alpha=0.6)\n",
    "plt.show()\n",
    "\n",
    "sample_theta = []\n",
    "sample_sigma = []\n",
    "sample_mu = []\n",
    "\n",
    "for k in range(K):\n",
    "    sample_theta.append(len(np.array(y_gmm)[np.array(z_gmm)==k])/N)\n",
    "    sample_mu.append(np.mean(np.array(y_gmm)[np.array(z_gmm)==k]))\n",
    "    sample_sigma.append(np.std(np.array(y_gmm)[np.array(z_gmm)==k]))\n",
    "\n",
    "print('sample theta: ', theta)\n",
    "print('sample mu: ', mu)\n",
    "print('sample sigma: ', sigmas)"
   ]
  },
  {
   "cell_type": "markdown",
   "metadata": {},
   "source": [
    "And then we can optimize our parameters and latent dataset."
   ]
  },
  {
   "cell_type": "code",
   "execution_count": 147,
   "metadata": {},
   "outputs": [
    {
     "name": "stderr",
     "output_type": "stream",
     "text": [
      "WARNING:pystan:Rhat above 1.1 or below 0.9 indicates that the chains very likely have not mixed\n",
      "WARNING:pystan:1 of 100 iterations saturated the maximum tree depth of 10 (1 %)\n",
      "WARNING:pystan:Run again with max_treedepth larger than 10 to avoid saturation\n"
     ]
    }
   ],
   "source": [
    "fit = gmm.sampling(data=gmm_dat, chains=1, iter=200)\n",
    "fit_ext = fit.extract()\n",
    "best_ind = np.where(fit_ext['lp__']==max(fit_ext['lp__']))[0][0]"
   ]
  },
  {
   "cell_type": "code",
   "execution_count": 148,
   "metadata": {},
   "outputs": [
    {
     "name": "stdout",
     "output_type": "stream",
     "text": [
      "Sample theta:  [0.247, 0.052, 0.701]\n",
      "Simulated theta:  [0.19089053 0.08243431 0.72667517]\n",
      "\n",
      "Sample mu:  [-12.927190781924065, 7.0361325617117245, 6.711757870577708]\n",
      "Simulated mu:  [-15.39545411   1.07123117   6.76791443]\n",
      "\n",
      "Sample sigmas:  [16.62118108260775, 27.547482192817046, 1.7034660587286357]\n",
      "Simulated sigmas:  [14.76051714 27.43974022  1.74041259]\n"
     ]
    }
   ],
   "source": [
    "theta_sim = fit_ext['theta'][best_ind]\n",
    "mu_sim = fit_ext['mu'][best_ind]\n",
    "sigmas_sim = fit_ext['sigma'][best_ind]\n",
    "\n",
    "\n",
    "print('Sample theta: ',sample_theta)\n",
    "print('Simulated theta: ',theta_sim)\n",
    "print()\n",
    "print('Sample mu: ',sample_mu)\n",
    "print('Simulated mu: ',mu_sim)\n",
    "print()\n",
    "print('Sample sigmas: ',sample_sigma)\n",
    "print('Simulated sigmas: ',sigmas_sim)"
   ]
  },
  {
   "cell_type": "code",
   "execution_count": 149,
   "metadata": {},
   "outputs": [
    {
     "data": {
      "image/png": "[encoded data removed]",
      "text/plain": [
       "<Figure size 720x432 with 2 Axes>"
      ]
     },
     "metadata": {},
     "output_type": "display_data"
    }
   ],
   "source": [
    "z_sim, y_sim = [], []\n",
    "for i in range(N):\n",
    "    opt = np.random.choice(list(range(K)),p=theta_sim)\n",
    "    z_sim.append(opt)\n",
    "    y_sim.append(np.random.normal(mu_sim[opt],sigmas_sim[opt]))\n",
    "\n",
    "fig = plt.figure(figsize=(10,6))\n",
    "ax = fig.add_subplot(1,2,1)\n",
    "for k in range(K):\n",
    "    ax.hist(np.array(y_gmm)[np.array(z_gmm)==k], alpha=0.6)\n",
    "# ax.set_xlim(min(np.min(y_gmm),np.min(y_sim)),max(np.max(y_gmm),np.max(y_sim)))\n",
    "# ax.set_ylim((0,N/4))\n",
    "title = ax.set_title(\"Original sample\")\n",
    "plt.setp(title, color='black') \n",
    "ax = fig.add_subplot(1,2,2)\n",
    "for k in range(K):\n",
    "    ax.hist(np.array(y_sim)[np.array(z_sim)==k], alpha=0.6)\n",
    "# ax.set_ylim((0,N/4))\n",
    "# ax.set_xlim(min(np.min(y_gmm),np.min(y_sim)),max(np.max(y_gmm),np.max(y_sim)))\n",
    "title = ax.set_title(\"Recreated data\")\n",
    "plt.setp(title, color='black') \n",
    "plt.show()"
   ]
  },
  {
   "cell_type": "markdown",
   "metadata": {},
   "source": [
    "As we can see, all parameters are estimated accurately."
   ]
  }
 ],
 "metadata": {
  "kernelspec": {
   "display_name": "Python 3",
   "language": "python",
   "name": "python3"
  },
  "language_info": {
   "codemirror_mode": {
    "name": "ipython",
    "version": 3
   },
   "file_extension": ".py",
   "mimetype": "text/x-python",
   "name": "python",
   "nbconvert_exporter": "python",
   "pygments_lexer": "ipython3",
   "version": "3.7.2"
  }
 },
 "nbformat": 4,
 "nbformat_minor": 2
}
