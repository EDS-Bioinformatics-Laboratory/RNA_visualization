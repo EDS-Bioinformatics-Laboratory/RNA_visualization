{
 "cells": [
  {
   "cell_type": "markdown",
   "metadata": {},
   "source": [
    "# Hierarchical model\n",
    "Hello, today we will try to recreate the hierarchical model as described in *Bishop & Tipping (1998)* in PyStan! In the original model, an *interactive* workflow is presented in which the user determines the number of clusters of latent data and locates their locations for the algorithm. To mimic this approach, we execute the steps of the algorithm individually, while passing the number of clusters and their approximate locations (through a $k$-means clustering algorithm) to the next step."
   ]
  },
  {
   "cell_type": "code",
   "execution_count": 1,
   "metadata": {},
   "outputs": [],
   "source": [
    "import matplotlib.pyplot as plt\n",
    "from mpl_toolkits.mplot3d import Axes3D\n",
    "import pystan\n",
    "import numpy as np\n",
    "import seaborn as sns\n",
    "from scipy.stats import norm\n",
    "import itertools\n",
    "from sklearn.cluster import KMeans\n",
    "from sklearn import datasets\n",
    "import os\n",
    "import pickle\n",
    "from utils import loadStan, GAP, hierarchical_model, est_k\n",
    "sns.set()\n",
    "from sklearn.metrics import adjusted_rand_score\n",
    "import csv"
   ]
  },
  {
   "cell_type": "code",
   "execution_count": 2,
   "metadata": {
    "scrolled": true
   },
   "outputs": [
    {
     "name": "stdout",
     "output_type": "stream",
     "text": [
      "Model loaded succesfully from cache.\n",
      "Model loaded succesfully from cache.\n",
      "Model loaded succesfully from cache.\n",
      "Model loaded succesfully from cache.\n",
      "Model loaded succesfully from cache.\n",
      "Model loaded succesfully from cache.\n",
      "Model loaded succesfully from cache.\n"
     ]
    }
   ],
   "source": [
    "ppca_model = loadStan('ppca')\n",
    "ppca_ard = loadStan('ppca_ard')\n",
    "gmm_model = loadStan('gmm')\n",
    "moppcas_model = loadStan('moppcas')\n",
    "moppcas_weighted = loadStan('moppcas_weighted')\n",
    "ppca_weighted = loadStan('ppca_weighted')\n",
    "gmm_weighted = loadStan('gmm_weighted')"
   ]
  },
  {
   "cell_type": "markdown",
   "metadata": {},
   "source": [
    "## Loading data\n",
    "Data used from Nestorowa *et al.* (2016), containing 1656 samples including 4774 genes from, 3 different celltypes."
   ]
  },
  {
   "cell_type": "code",
   "execution_count": 3,
   "metadata": {},
   "outputs": [],
   "source": [
    "i=0\n",
    "with open('coordinates_gene_counts_flow_cytometry.txt', newline = '') as data:                                                                                          \n",
    "    data_reader = csv.reader(data, delimiter='\\t')\n",
    "    d=list(data_reader)"
   ]
  },
  {
   "cell_type": "code",
   "execution_count": null,
   "metadata": {},
   "outputs": [],
   "source": []
  },
  {
   "cell_type": "code",
   "execution_count": 24,
   "metadata": {},
   "outputs": [],
   "source": [
    "rawlabels = []\n",
    "for i in np.array(d)[1:,0]:\n",
    "    rawlabels.append(i.split('_')[0])"
   ]
  },
  {
   "cell_type": "code",
   "execution_count": 27,
   "metadata": {},
   "outputs": [],
   "source": [
    "rawdata = np.array(d)[1:,14:]"
   ]
  },
  {
   "cell_type": "code",
   "execution_count": 28,
   "metadata": {},
   "outputs": [],
   "source": [
    "N, D = np.shape(rawdata)\n",
    "M = 2"
   ]
  },
  {
   "cell_type": "code",
   "execution_count": 29,
   "metadata": {},
   "outputs": [],
   "source": [
    "data = []\n",
    "labels = []\n",
    "for i in range(N):\n",
    "    if 'NA' not in rawdata[i]:\n",
    "        data.append(rawdata[i].astype(np.float))\n",
    "        labels.append(rawlabels[i])\n",
    "data = np.array(data)\n",
    "labels = np.array(labels)"
   ]
  },
  {
   "cell_type": "code",
   "execution_count": 30,
   "metadata": {
    "scrolled": true
   },
   "outputs": [
    {
     "name": "stdout",
     "output_type": "stream",
     "text": [
      "[[ 0.          0.         10.05743731  0.          0.        ]\n",
      " [ 0.          0.          0.          0.          0.        ]\n",
      " [ 0.          0.          0.          0.          0.        ]\n",
      " [ 0.          0.          0.          0.          0.        ]\n",
      " [ 1.27559607  0.          1.94184868  0.          0.        ]]\n",
      "['HSPC' 'HSPC' 'HSPC' 'HSPC' 'HSPC']\n"
     ]
    }
   ],
   "source": [
    "print(data[:5,:5])\n",
    "print(labels[:5])"
   ]
  },
  {
   "cell_type": "code",
   "execution_count": 31,
   "metadata": {},
   "outputs": [],
   "source": [
    "labels = np.unique(labels, return_inverse=True)[1]"
   ]
  },
  {
   "cell_type": "code",
   "execution_count": 32,
   "metadata": {},
   "outputs": [],
   "source": [
    "N, D = np.shape(data)"
   ]
  },
  {
   "cell_type": "code",
   "execution_count": 33,
   "metadata": {},
   "outputs": [
    {
     "name": "stdout",
     "output_type": "stream",
     "text": [
      "(1654, 4290)\n",
      "(1654,)\n"
     ]
    }
   ],
   "source": [
    "print(np.shape(data))\n",
    "print(np.shape(labels))"
   ]
  },
  {
   "cell_type": "code",
   "execution_count": 44,
   "metadata": {},
   "outputs": [],
   "source": [
    "# with open('nestorowa.pkl', 'wb') as f:\n",
    "#     pickle.dump([data, labels], f)"
   ]
  },
  {
   "cell_type": "code",
   "execution_count": 47,
   "metadata": {},
   "outputs": [
    {
     "name": "stdout",
     "output_type": "stream",
     "text": [
      "(1654, 4290)\n"
     ]
    }
   ],
   "source": [
    "data, labels = pickle.load(open('nestorowa.pkl', 'rb'))\n",
    "N,D = np.shape(data)\n",
    "print((N,D))"
   ]
  },
  {
   "cell_type": "markdown",
   "metadata": {},
   "source": [
    "## pre-analysis"
   ]
  },
  {
   "cell_type": "markdown",
   "metadata": {},
   "source": [
    "### Some examples of distributions of genes"
   ]
  },
  {
   "cell_type": "code",
   "execution_count": 48,
   "metadata": {
    "scrolled": true
   },
   "outputs": [
    {
     "data": {
      "image/png": "[encoded data removed]",
      "text/plain": [
       "<Figure size 432x288 with 1 Axes>"
      ]
     },
     "metadata": {},
     "output_type": "display_data"
    },
    {
     "data": {
      "image/png": "[encoded data removed]",
      "text/plain": [
       "<Figure size 432x288 with 1 Axes>"
      ]
     },
     "metadata": {},
     "output_type": "display_data"
    },
    {
     "data": {
      "image/png": "[encoded data removed]",
      "text/plain": [
       "<Figure size 432x288 with 1 Axes>"
      ]
     },
     "metadata": {},
     "output_type": "display_data"
    },
    {
     "data": {
      "image/png": "[encoded data removed]",
      "text/plain": [
       "<Figure size 432x288 with 1 Axes>"
      ]
     },
     "metadata": {},
     "output_type": "display_data"
    },
    {
     "data": {
      "image/png": "[encoded data removed]",
      "text/plain": [
       "<Figure size 432x288 with 1 Axes>"
      ]
     },
     "metadata": {},
     "output_type": "display_data"
    },
    {
     "data": {
      "image/png": "[encoded data removed]",
      "text/plain": [
       "<Figure size 432x288 with 1 Axes>"
      ]
     },
     "metadata": {},
     "output_type": "display_data"
    },
    {
     "data": {
      "image/png": "[encoded data removed]",
      "text/plain": [
       "<Figure size 432x288 with 1 Axes>"
      ]
     },
     "metadata": {},
     "output_type": "display_data"
    },
    {
     "data": {
      "image/png": "[encoded data removed]",
      "text/plain": [
       "<Figure size 432x288 with 1 Axes>"
      ]
     },
     "metadata": {},
     "output_type": "display_data"
    },
    {
     "data": {
      "image/png": "[encoded data removed]",
      "text/plain": [
       "<Figure size 432x288 with 1 Axes>"
      ]
     },
     "metadata": {},
     "output_type": "display_data"
    },
    {
     "data": {
      "image/png": "[encoded data removed]",
      "text/plain": [
       "<Figure size 432x288 with 1 Axes>"
      ]
     },
     "metadata": {},
     "output_type": "display_data"
    }
   ],
   "source": [
    "sns.set()\n",
    "genes = np.random.choice(list(range(D)), p= np.std(data,axis=0)/sum(np.std(data,axis=0)), size=10, replace=False)\n",
    "for i in range(10):\n",
    "    plt.hist(data[:,genes[i]], bins=100)\n",
    "    plt.show()"
   ]
  },
  {
   "cell_type": "markdown",
   "metadata": {},
   "source": [
    "### Number of clusters is estimated very high, found clusters are not representative of genetype"
   ]
  },
  {
   "cell_type": "code",
   "execution_count": 38,
   "metadata": {},
   "outputs": [
    {
     "name": "stdout",
     "output_type": "stream",
     "text": [
      "n_clusters:  1 , AIC:  34083457.4982029 , BIC:  34106670.481749155\n",
      "n_clusters:  2 , AIC:  33097243.737079263 , BIC:  33143669.70417177\n",
      "n_clusters:  3 , AIC:  32765941.471452035 , BIC:  32835580.422090795\n",
      "n_clusters:  4 , AIC:  32569844.29213714 , BIC:  32662696.226322155\n",
      "n_clusters:  5 , AIC:  32459816.541652814 , BIC:  32575881.459384084\n",
      "n_clusters:  6 , AIC:  32381279.60728831 , BIC:  32520557.508565832\n",
      "n_clusters:  7 , AIC:  32335340.88174159 , BIC:  32497831.766565368\n",
      "n_clusters:  8 , AIC:  32303439.781126723 , BIC:  32489143.649496753\n",
      "n_clusters:  9 , AIC:  32295710.885811415 , BIC:  32504627.737727698\n",
      "n_clusters:  10 , AIC:  32302104.009613328 , BIC:  32534233.845075864\n",
      "9  clusters according to AIC,  8  clusters according to BIC.\n"
     ]
    },
    {
     "data": {
      "text/plain": [
       "(8, KMeans(algorithm='auto', copy_x=True, init='k-means++', max_iter=300,\n",
       "        n_clusters=8, n_init=10, n_jobs=None, precompute_distances='auto',\n",
       "        random_state=None, tol=0.0001, verbose=0))"
      ]
     },
     "execution_count": 38,
     "metadata": {},
     "output_type": "execute_result"
    }
   ],
   "source": [
    "est_k(data, k_max = 10, verbose=True, method='bic', refs=1)"
   ]
  },
  {
   "cell_type": "code",
   "execution_count": 60,
   "metadata": {},
   "outputs": [],
   "source": [
    "n_test = 3\n",
    "labels_test = KMeans(n_test).fit(data).labels_"
   ]
  },
  {
   "cell_type": "code",
   "execution_count": 61,
   "metadata": {},
   "outputs": [
    {
     "data": {
      "text/plain": [
       "array([[0.7232525 , 0.01141227, 0.26533524],\n",
       "       [0.85806452, 0.07096774, 0.07096774],\n",
       "       [0.1641604 , 0.32080201, 0.51503759]])"
      ]
     },
     "execution_count": 61,
     "metadata": {},
     "output_type": "execute_result"
    }
   ],
   "source": [
    "res = np.zeros((3,n_test))\n",
    "for r in range(3):\n",
    "    for t in range(n_test):\n",
    "        res[r,t] = sum(labels[labels_test==t]==r)\n",
    "    res[r,:] = res[r,:]/sum(res[r,:])\n",
    "res"
   ]
  },
  {
   "cell_type": "code",
   "execution_count": 62,
   "metadata": {},
   "outputs": [
    {
     "data": {
      "image/png": "[encoded data removed]",
      "text/plain": [
       "<Figure size 432x288 with 2 Axes>"
      ]
     },
     "metadata": {},
     "output_type": "display_data"
    }
   ],
   "source": [
    "plt.imshow(res)\n",
    "plt.colorbar()\n",
    "plt.show()"
   ]
  },
  {
   "cell_type": "code",
   "execution_count": 63,
   "metadata": {},
   "outputs": [
    {
     "data": {
      "text/plain": [
       "0.18670023249756346"
      ]
     },
     "execution_count": 63,
     "metadata": {},
     "output_type": "execute_result"
    }
   ],
   "source": [
    "adjusted_rand_score(labels, labels_test)"
   ]
  },
  {
   "cell_type": "markdown",
   "metadata": {},
   "source": [
    "### Preprocessing"
   ]
  },
  {
   "cell_type": "code",
   "execution_count": 64,
   "metadata": {},
   "outputs": [],
   "source": [
    "scores = np.std(data,axis=0)"
   ]
  },
  {
   "cell_type": "code",
   "execution_count": 65,
   "metadata": {},
   "outputs": [],
   "source": [
    "scores = np.array(scores)\n",
    "stdscores = []\n",
    "for j in np.linspace(0,5,100):\n",
    "    stdscores.append(sum(scores>j))"
   ]
  },
  {
   "cell_type": "code",
   "execution_count": 66,
   "metadata": {},
   "outputs": [
    {
     "data": {
      "image/png": "[encoded data removed]",
      "text/plain": [
       "<Figure size 432x288 with 1 Axes>"
      ]
     },
     "metadata": {},
     "output_type": "display_data"
    }
   ],
   "source": [
    "sns.set()\n",
    "plt.plot(np.linspace(0,5,100), stdscores)\n",
    "plt.ylabel('No. genes with higher std. dev.')\n",
    "plt.xlabel('Std.dev.')\n",
    "plt.show()"
   ]
  },
  {
   "cell_type": "code",
   "execution_count": 67,
   "metadata": {},
   "outputs": [
    {
     "name": "stdout",
     "output_type": "stream",
     "text": [
      "Using genes with std.dev. of higher than 3.282828282828283\n"
     ]
    }
   ],
   "source": [
    "genemask = []\n",
    "for i in range(D):\n",
    "    if np.std(data[:,i])>np.linspace(0,5,100)[65]:\n",
    "        genemask.append(True)\n",
    "    else:\n",
    "        genemask.append(False)\n",
    "genemask = np.array(genemask)\n",
    "print('Using genes with std.dev. of higher than %s'%str(np.linspace(0,5,100)[65]))"
   ]
  },
  {
   "cell_type": "code",
   "execution_count": 68,
   "metadata": {},
   "outputs": [],
   "source": [
    "cropped_data = data[:,genemask]"
   ]
  },
  {
   "cell_type": "code",
   "execution_count": 69,
   "metadata": {},
   "outputs": [
    {
     "data": {
      "text/plain": [
       "(1654, 222)"
      ]
     },
     "execution_count": 69,
     "metadata": {},
     "output_type": "execute_result"
    }
   ],
   "source": [
    "np.shape(cropped_data)"
   ]
  },
  {
   "cell_type": "markdown",
   "metadata": {},
   "source": [
    "## Analysis"
   ]
  },
  {
   "cell_type": "code",
   "execution_count": null,
   "metadata": {},
   "outputs": [],
   "source": [
    "model = hierarchical_model()\n",
    "latent, cats_per_lvl, probs = model.fit(cropped_data, max_depth=3)"
   ]
  },
  {
   "cell_type": "code",
   "execution_count": null,
   "metadata": {},
   "outputs": [],
   "source": [
    "plt.scatter(latent[0][0],latent[0][1], c =labels, alpha=0.4)\n",
    "plt.show()"
   ]
  }
 ],
 "metadata": {
  "kernelspec": {
   "display_name": "Python 3",
   "language": "python",
   "name": "python3"
  },
  "language_info": {
   "codemirror_mode": {
    "name": "ipython",
    "version": 3
   },
   "file_extension": ".py",
   "mimetype": "text/x-python",
   "name": "python",
   "nbconvert_exporter": "python",
   "pygments_lexer": "ipython3",
   "version": "3.7.2"
  }
 },
 "nbformat": 4,
 "nbformat_minor": 2
}
