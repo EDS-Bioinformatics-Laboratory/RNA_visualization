{
 "cells": [
  {
   "cell_type": "code",
   "execution_count": 9,
   "metadata": {},
   "outputs": [],
   "source": [
    "from __future__ import print_function\n",
    "import collections\n",
    "\n",
    "import tensorflow as tf\n",
    "import tensorflow_probability as tfp\n",
    "tfd = tfp.distributions\n",
    "\n",
    "try:\n",
    "    tf.compat.v1.enable_eager_execution()\n",
    "except ValueError:\n",
    "    pass\n",
    "\n",
    "import matplotlib.pyplot as plt"
   ]
  },
  {
   "cell_type": "markdown",
   "metadata": {},
   "source": [
    "# Normal distribution"
   ]
  },
  {
   "cell_type": "code",
   "execution_count": 11,
   "metadata": {},
   "outputs": [
    {
     "name": "stdout",
     "output_type": "stream",
     "text": [
      "tfp.distributions.Normal(\"Normal\", batch_shape=[], event_shape=[], dtype=float32)\n",
      "tf.Tensor(0.0019717598, shape=(), dtype=float32)\n",
      "tf.Tensor([ 0.87287337 -0.96089274 -0.32446525], shape=(3,), dtype=float32)\n"
     ]
    }
   ],
   "source": [
    "n = tfd.Normal(loc=0., scale=1.)\n",
    "print(n)\n",
    "print(n.sample())\n",
    "print(n.sample(3))"
   ]
  },
  {
   "cell_type": "markdown",
   "metadata": {},
   "source": [
    "Evaluate log-probabilities:"
   ]
  },
  {
   "cell_type": "code",
   "execution_count": 12,
   "metadata": {},
   "outputs": [
    {
     "name": "stdout",
     "output_type": "stream",
     "text": [
      "tf.Tensor(-0.9189385, shape=(), dtype=float32)\n",
      "tf.Tensor([-0.9189385 -2.9189386 -8.918939 ], shape=(3,), dtype=float32)\n"
     ]
    }
   ],
   "source": [
    "print(n.log_prob(0.))\n",
    "print(n.log_prob([0., 2., 4.]))"
   ]
  },
  {
   "cell_type": "markdown",
   "metadata": {},
   "source": [
    "# Bernoulli distribution"
   ]
  },
  {
   "cell_type": "code",
   "execution_count": 16,
   "metadata": {},
   "outputs": [
    {
     "name": "stdout",
     "output_type": "stream",
     "text": [
      "tfp.distributions.Bernoulli(\"Bernoulli\", batch_shape=[], event_shape=[], dtype=int32)\n",
      "tf.Tensor(0, shape=(), dtype=int32)\n",
      "tf.Tensor([1 0 0 1 1 0 0 1], shape=(8,), dtype=int32)\n"
     ]
    }
   ],
   "source": [
    "b = tfd.Bernoulli(probs=0.5)\n",
    "print(b)\n",
    "print(b.sample())\n",
    "print(b.sample(8))"
   ]
  },
  {
   "cell_type": "markdown",
   "metadata": {},
   "source": [
    "log-probabilities:"
   ]
  },
  {
   "cell_type": "code",
   "execution_count": 17,
   "metadata": {},
   "outputs": [
    {
     "name": "stdout",
     "output_type": "stream",
     "text": [
      "tf.Tensor(-0.6931472, shape=(), dtype=float32)\n",
      "tf.Tensor([-0.6931472 -0.6931472 -0.6931472 -0.6931472], shape=(4,), dtype=float32)\n"
     ]
    }
   ],
   "source": [
    "print(b.log_prob(1))\n",
    "print(b.log_prob([0,1,0,1]))"
   ]
  },
  {
   "cell_type": "markdown",
   "metadata": {},
   "source": [
    "# Multivariate Normal distribution"
   ]
  },
  {
   "cell_type": "code",
   "execution_count": 19,
   "metadata": {},
   "outputs": [
    {
     "name": "stdout",
     "output_type": "stream",
     "text": [
      "tfp.distributions.MultivariateNormalDiag(\"MultivariateNormalDiag\", batch_shape=[], event_shape=[2], dtype=float32)\n",
      "tf.Tensor([-1.7036997 10.409157 ], shape=(2,), dtype=float32)\n",
      "tf.Tensor(\n",
      "[[-0.1864698   6.0794315 ]\n",
      " [-0.606507    9.717038  ]\n",
      " [-0.74971014 10.488503  ]\n",
      " [ 0.45698676 16.530394  ]\n",
      " [ 0.42477697  1.0357666 ]], shape=(5, 2), dtype=float32)\n"
     ]
    }
   ],
   "source": [
    "nd = tfd.MultivariateNormalDiag(loc=[0., 10.], scale_diag=[1., 4.])\n",
    "print(nd)\n",
    "print(nd.sample())\n",
    "print(nd.sample(5))"
   ]
  },
  {
   "cell_type": "markdown",
   "metadata": {},
   "source": [
    "log-probabilities for multivariate normal distribution:"
   ]
  },
  {
   "cell_type": "code",
   "execution_count": 20,
   "metadata": {},
   "outputs": [
    {
     "data": {
      "text/plain": [
       "<tf.Tensor: id=358, shape=(), dtype=float32, numpy=-3.2241714>"
      ]
     },
     "execution_count": 20,
     "metadata": {},
     "output_type": "execute_result"
    }
   ],
   "source": [
    "nd.log_prob([0., 10])"
   ]
  },
  {
   "cell_type": "markdown",
   "metadata": {},
   "source": [
    "Full covariace-matrix:"
   ]
  },
  {
   "cell_type": "code",
   "execution_count": 21,
   "metadata": {},
   "outputs": [
    {
     "data": {
      "image/png": "[encoded data removed]",
      "text/plain": [
       "<Figure size 432x288 with 1 Axes>"
      ]
     },
     "metadata": {
      "needs_background": "dark"
     },
     "output_type": "display_data"
    }
   ],
   "source": [
    "nd = tfd.MultivariateNormalFullCovariance(\n",
    "    loc = [0., 5], covariance_matrix = [[1., .7], [.7, 1.]])\n",
    "data = nd.sample(200)\n",
    "plt.scatter(data[:, 0], data[:, 1], color='blue', alpha=0.4)\n",
    "plt.axis([-5, 5, 0, 10])\n",
    "plt.title(\"Data set\")\n",
    "plt.show()"
   ]
  },
  {
   "cell_type": "markdown",
   "metadata": {},
   "source": [
    "# Multiple Bernoulli experiments"
   ]
  },
  {
   "cell_type": "code",
   "execution_count": 24,
   "metadata": {},
   "outputs": [
    {
     "name": "stdout",
     "output_type": "stream",
     "text": [
      "tfp.distributions.Bernoulli(\"Bernoulli\", batch_shape=[3], event_shape=[], dtype=int32)\n",
      "tf.Tensor(\n",
      "[[1 0 1]\n",
      " [0 1 1]\n",
      " [1 1 1]\n",
      " [1 0 1]\n",
      " [0 0 1]], shape=(5, 3), dtype=int32)\n",
      "tf.Tensor([0.29999998 0.5        0.29999998], shape=(3,), dtype=float32)\n",
      "tf.Tensor([-1.2039728 -0.6931472 -1.2039728], shape=(3,), dtype=float32)\n"
     ]
    }
   ],
   "source": [
    "b3 = tfd.Bernoulli(probs=[.3, .5, .7])\n",
    "print(b3)\n",
    "print(b3.sample(5))\n",
    "print(b3.prob([1, 1, 0]))\n",
    "print(b3.log_prob([1, 1, 0]))"
   ]
  },
  {
   "cell_type": "markdown",
   "metadata": {},
   "source": [
    "Evaluate one series of independent variables:"
   ]
  },
  {
   "cell_type": "code",
   "execution_count": 32,
   "metadata": {},
   "outputs": [
    {
     "name": "stdout",
     "output_type": "stream",
     "text": [
      "tfp.distributions.Independent(\"IndependentBernoulli\", batch_shape=[], event_shape=[3], dtype=int32)\n",
      "tf.Tensor(0.044999998, shape=(), dtype=float32)\n",
      "tf.Tensor(0.044999994, shape=(), dtype=float32)\n"
     ]
    }
   ],
   "source": [
    "b3_joint = tfd.Independent(b3, reinterpreted_batch_ndims=1)\n",
    "print(b3_joint)\n",
    "print(b3_joint.prob([1, 1, 0]))   # all independent probabilities (b3.prob()) multiplied as given in the next line:\n",
    "print(tf.reduce_prod(b3.prob([1, 1, 0])))"
   ]
  },
  {
   "cell_type": "markdown",
   "metadata": {},
   "source": [
    "# Batch of multivariate distributions"
   ]
  },
  {
   "cell_type": "code",
   "execution_count": 44,
   "metadata": {},
   "outputs": [
    {
     "name": "stdout",
     "output_type": "stream",
     "text": [
      "tfp.distributions.MultivariateNormalFullCovariance(\"MultivariateNormalFullCovariance\", batch_shape=[3], event_shape=[2], dtype=float32)\n",
      "tf.Tensor(\n",
      "[[[-1.1490412   0.45698982]\n",
      "  [ 1.432057    1.8871888 ]\n",
      "  [ 3.7556992   2.0628035 ]]\n",
      "\n",
      " [[ 0.68792325 -0.35831434]\n",
      "  [ 2.3963943   2.9983473 ]\n",
      "  [ 3.0631561   1.4934293 ]]\n",
      "\n",
      " [[-0.12854612  0.775008  ]\n",
      "  [ 0.32621896  1.1306397 ]\n",
      "  [ 0.35264778  0.78691995]]\n",
      "\n",
      " [[-1.7665267  -0.19128998]\n",
      "  [ 1.4226983  -0.04595745]\n",
      "  [ 1.4762866   0.6333194 ]]], shape=(4, 3, 2), dtype=float32)\n",
      "tf.Tensor([-1.8328519 -1.7907217 -1.694036 ], shape=(3,), dtype=float32)\n"
     ]
    }
   ],
   "source": [
    "nd_batch = tfd.MultivariateNormalFullCovariance(\n",
    "    loc = [[0., 0.], [1., 1.], [2., 2.]],\n",
    "    covariance_matrix = [[[1., .1], [.1, 1.]], \n",
    "                         [[1., .3], [.3, 1.]],\n",
    "                         [[1., .5], [.5, 1.]]])\n",
    "print(nd_batch)\n",
    "print(nd_batch.sample(4))\n",
    "print(nd_batch.log_prob([[0., 0.], [1., 1.], [2., 2.]]))"
   ]
  }
 ],
 "metadata": {
  "kernelspec": {
   "display_name": "Python 3",
   "language": "python",
   "name": "python3"
  },
  "language_info": {
   "codemirror_mode": {
    "name": "ipython",
    "version": 3
   },
   "file_extension": ".py",
   "mimetype": "text/x-python",
   "name": "python",
   "nbconvert_exporter": "python",
   "pygments_lexer": "ipython3",
   "version": "3.7.2"
  }
 },
 "nbformat": 4,
 "nbformat_minor": 2
}
