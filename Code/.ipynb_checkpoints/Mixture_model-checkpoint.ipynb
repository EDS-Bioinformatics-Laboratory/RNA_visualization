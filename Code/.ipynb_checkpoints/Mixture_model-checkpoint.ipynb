{
 "cells": [
  {
   "cell_type": "code",
   "execution_count": 1,
   "metadata": {},
   "outputs": [],
   "source": [
    "import functools\n",
    "import warnings\n",
    "\n",
    "import matplotlib.pyplot as plt\n",
    "import numpy as np\n",
    "import seaborn as sns\n",
    "from mpl_toolkits.mplot3d import Axes3D\n",
    "\n",
    "import tensorflow.compat.v2 as tf\n",
    "import tensorflow_probability as tfp\n",
    "\n",
    "from tensorflow_probability import distributions as tfd\n",
    "\n",
    "tf.enable_v2_behavior()\n",
    "\n",
    "plt.style.use(\"ggplot\")\n",
    "warnings.filterwarnings('ignore')"
   ]
  },
  {
   "cell_type": "code",
   "execution_count": 33,
   "metadata": {},
   "outputs": [],
   "source": [
    "Root = tfd.JointDistributionCoroutine.Root\n",
    "def GMM(data_dim, latent_dim, num_datapoints, stddv_datapoints, components):\n",
    "    \n",
    "    # We start by generating a sigma^2\n",
    "    mu = yield Root(tfd.Independent(tfd.Dirichlet(\n",
    "    concentration=np.ones(3),\n",
    "    name='mu')))\n",
    "    \n",
    "    # Then the latent data z\n",
    "#     z = yield Root(tfd.Independent(\n",
    "#         tfd.Normal(loc=tf.zeros([latent_dim, num_datapoints]),\n",
    "#                  scale=1.0*tf.ones([latent_dim, num_datapoints]),\n",
    "#                  name=\"z\"), reinterpreted_batch_ndims=2))\n",
    "\n",
    "\n",
    "    x = yield Root(tfd.Independent(tfd.MixtureSameFamily(\n",
    "    mixture_distribution=tfd.Categorical(probs=mu),\n",
    "    components_distribution=tfd.Normal(\n",
    "      loc=[-1., 1,3], scale=[0.1, 0.5,0.4]))))\n",
    "    \n",
    "num_datapoints = 500\n",
    "data_dim = 3\n",
    "latent_dim = 2\n",
    "stddv_datapoints = 0.3\n",
    "components = 3\n",
    "\n",
    "Gaussian_mixture_model = functools.partial(GMM,\n",
    "    data_dim=data_dim,\n",
    "    latent_dim=latent_dim,\n",
    "    num_datapoints=num_datapoints,\n",
    "    stddv_datapoints=stddv_datapoints,\n",
    "    components = components)\n",
    "\n",
    "gmm = tfd.JointDistributionCoroutine(Gaussian_mixture_model)"
   ]
  },
  {
   "cell_type": "code",
   "execution_count": 34,
   "metadata": {},
   "outputs": [
    {
     "data": {
      "text/plain": [
       "(<tf.Tensor: id=291081, shape=(3,), dtype=float64, numpy=array([0.24659657, 0.31951705, 0.43388637])>,\n",
       " <tf.Tensor: id=291191, shape=(), dtype=float32, numpy=2.9169629>)"
      ]
     },
     "execution_count": 34,
     "metadata": {},
     "output_type": "execute_result"
    }
   ],
   "source": [
    "gmm.sample()"
   ]
  },
  {
   "cell_type": "code",
   "execution_count": 30,
   "metadata": {},
   "outputs": [
    {
     "data": {
      "image/png": "[encoded data removed]",
      "text/plain": [
       "<Figure size 432x288 with 1 Axes>"
      ]
     },
     "metadata": {
      "needs_background": "light"
     },
     "output_type": "display_data"
    }
   ],
   "source": [
    "results = []\n",
    "for i in range(1000):\n",
    "    results.append(gmm.sample()[1])\n",
    "plt.hist(results)\n",
    "plt.show()\n"
   ]
  }
 ],
 "metadata": {
  "kernelspec": {
   "display_name": "Python 3",
   "language": "python",
   "name": "python3"
  },
  "language_info": {
   "codemirror_mode": {
    "name": "ipython",
    "version": 3
   },
   "file_extension": ".py",
   "mimetype": "text/x-python",
   "name": "python",
   "nbconvert_exporter": "python",
   "pygments_lexer": "ipython3",
   "version": "3.7.2"
  }
 },
 "nbformat": 4,
 "nbformat_minor": 2
}
